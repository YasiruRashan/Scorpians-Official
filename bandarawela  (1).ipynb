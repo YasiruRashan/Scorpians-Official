{
 "cells": [
  {
   "cell_type": "code",
   "execution_count": 1,
   "metadata": {},
   "outputs": [],
   "source": [
    "import pandas as pd\n",
    "import numpy as np\n",
    "from matplotlib import pyplot as plt\n",
    "%matplotlib inline\n",
    "import matplotlib\n",
    "matplotlib.rcParams[\"figure.figsize\"] = (20,10)"
   ]
  },
  {
   "cell_type": "code",
   "execution_count": 2,
   "metadata": {},
   "outputs": [
    {
     "data": {
      "text/html": [
       "<div>\n",
       "<style scoped>\n",
       "    .dataframe tbody tr th:only-of-type {\n",
       "        vertical-align: middle;\n",
       "    }\n",
       "\n",
       "    .dataframe tbody tr th {\n",
       "        vertical-align: top;\n",
       "    }\n",
       "\n",
       "    .dataframe thead th {\n",
       "        text-align: right;\n",
       "    }\n",
       "</style>\n",
       "<table border=\"1\" class=\"dataframe\">\n",
       "  <thead>\n",
       "    <tr style=\"text-align: right;\">\n",
       "      <th></th>\n",
       "      <th>Date</th>\n",
       "      <th>Vegetable</th>\n",
       "      <th>Units</th>\n",
       "      <th>Net Amount (kg)</th>\n",
       "      <th>Time</th>\n",
       "      <th>Price per kilogram(Rs)</th>\n",
       "      <th>Net Price (Rs)</th>\n",
       "      <th>Quality</th>\n",
       "    </tr>\n",
       "  </thead>\n",
       "  <tbody>\n",
       "    <tr>\n",
       "      <th>0</th>\n",
       "      <td>7/31/2020</td>\n",
       "      <td>Green Chilli</td>\n",
       "      <td>4</td>\n",
       "      <td>118.0</td>\n",
       "      <td>7.50am</td>\n",
       "      <td>128.0</td>\n",
       "      <td>15104</td>\n",
       "      <td>H</td>\n",
       "    </tr>\n",
       "    <tr>\n",
       "      <th>1</th>\n",
       "      <td>7/31/2020</td>\n",
       "      <td>Beans</td>\n",
       "      <td>12</td>\n",
       "      <td>286.0</td>\n",
       "      <td>8.35am</td>\n",
       "      <td>182.0</td>\n",
       "      <td>52052</td>\n",
       "      <td>H</td>\n",
       "    </tr>\n",
       "    <tr>\n",
       "      <th>2</th>\n",
       "      <td>2020-07-31 00:00:00</td>\n",
       "      <td>Potatoe</td>\n",
       "      <td>5</td>\n",
       "      <td>266.0</td>\n",
       "      <td>9.45am</td>\n",
       "      <td>115.0</td>\n",
       "      <td>30590</td>\n",
       "      <td>M</td>\n",
       "    </tr>\n",
       "    <tr>\n",
       "      <th>3</th>\n",
       "      <td>2020-07-31 00:00:00</td>\n",
       "      <td>Cabbage</td>\n",
       "      <td>4</td>\n",
       "      <td>154.0</td>\n",
       "      <td>10.10am</td>\n",
       "      <td>77.0</td>\n",
       "      <td>11858</td>\n",
       "      <td>H</td>\n",
       "    </tr>\n",
       "    <tr>\n",
       "      <th>4</th>\n",
       "      <td>2020-07-31 00:00:00</td>\n",
       "      <td>Potatoe</td>\n",
       "      <td>3</td>\n",
       "      <td>142.0</td>\n",
       "      <td>10.30am</td>\n",
       "      <td>75.0</td>\n",
       "      <td>10650</td>\n",
       "      <td>L</td>\n",
       "    </tr>\n",
       "  </tbody>\n",
       "</table>\n",
       "</div>"
      ],
      "text/plain": [
       "                  Date     Vegetable  Units  Net Amount (kg)      Time  \\\n",
       "0            7/31/2020  Green Chilli      4            118.0   7.50am    \n",
       "1            7/31/2020         Beans     12            286.0   8.35am    \n",
       "2  2020-07-31 00:00:00       Potatoe      5            266.0   9.45am    \n",
       "3  2020-07-31 00:00:00       Cabbage      4            154.0  10.10am    \n",
       "4  2020-07-31 00:00:00       Potatoe      3            142.0   10.30am   \n",
       "\n",
       "   Price per kilogram(Rs)  Net Price (Rs) Quality  \n",
       "0                   128.0           15104       H  \n",
       "1                   182.0           52052       H  \n",
       "2                   115.0           30590       M  \n",
       "3                    77.0           11858       H  \n",
       "4                    75.0           10650       L  "
      ]
     },
     "execution_count": 2,
     "metadata": {},
     "output_type": "execute_result"
    }
   ],
   "source": [
    "df = pd.read_excel (r\"C:\\Users\\Shirani jayawardana\\Desktop\\sdgp\\bandarawela.xlsx\")\n",
    "df.head()"
   ]
  },
  {
   "cell_type": "code",
   "execution_count": 3,
   "metadata": {
    "scrolled": true
   },
   "outputs": [
    {
     "data": {
      "text/plain": [
       "Beans           96\n",
       "Eggplant        41\n",
       "Potatoe         20\n",
       "Tomato          20\n",
       "Cabbage         18\n",
       "Carrot          18\n",
       "Radish          13\n",
       "Green Chilli    10\n",
       "Pumpkin          5\n",
       "Guava            4\n",
       "Karawila         2\n",
       "Arecanut         1\n",
       "Lettuce          1\n",
       "Banana           1\n",
       "Name: Vegetable, dtype: int64"
      ]
     },
     "execution_count": 3,
     "metadata": {},
     "output_type": "execute_result"
    }
   ],
   "source": [
    "df['Vegetable'].value_counts()"
   ]
  },
  {
   "cell_type": "code",
   "execution_count": 4,
   "metadata": {},
   "outputs": [
    {
     "data": {
      "text/plain": [
       "(251, 4)"
      ]
     },
     "execution_count": 4,
     "metadata": {},
     "output_type": "execute_result"
    }
   ],
   "source": [
    "df = df.drop(['Date','Quality','Net Price (Rs)','Units'],axis='columns')\n",
    "df.shape"
   ]
  },
  {
   "cell_type": "code",
   "execution_count": 5,
   "metadata": {},
   "outputs": [
    {
     "data": {
      "text/plain": [
       "Vegetable                 1\n",
       "Net Amount (kg)           1\n",
       "Time                      0\n",
       "Price per kilogram(Rs)    1\n",
       "dtype: int64"
      ]
     },
     "execution_count": 5,
     "metadata": {},
     "output_type": "execute_result"
    }
   ],
   "source": [
    "df.isnull().sum()"
   ]
  },
  {
   "cell_type": "code",
   "execution_count": 6,
   "metadata": {},
   "outputs": [
    {
     "data": {
      "text/plain": [
       "Vegetable                 0\n",
       "Net Amount (kg)           0\n",
       "Time                      0\n",
       "Price per kilogram(Rs)    0\n",
       "dtype: int64"
      ]
     },
     "execution_count": 6,
     "metadata": {},
     "output_type": "execute_result"
    }
   ],
   "source": [
    "df = df.dropna()\n",
    "df.isnull().sum()"
   ]
  },
  {
   "cell_type": "code",
   "execution_count": 7,
   "metadata": {
    "scrolled": false
   },
   "outputs": [
    {
     "data": {
      "text/plain": [
       "array(['7.50am ', '8.35am ', '9.45am ', '10.10am ', '10.30am', '10.45am ',\n",
       "       '11.35am', '12.25pm ', '12.55pm', '9.00am', '9.25am', '9.55am',\n",
       "       '10.50am', '11.05am ', '11.30am ', '11.45am', '8.30am ', '8.45am ',\n",
       "       '8.55am', '9.45am', '10.00am', '10.25am ', '10.40am', '11.55am ',\n",
       "       '8.15am ', '8.30am', '10.05am', '10.30am ', '10.55am ', '11.10am ',\n",
       "       '11.35am ', '1.00pm ', '9.10am', '9.30am', '10.25am', '11.20am',\n",
       "       '11.40am ', '12.05pm', '8.05am ', '8.10am ', '9.05am ', '9.35am',\n",
       "       '10.15am', '8.05am', '8.25am ', '9.15am', '9.30am ', '9.55am ',\n",
       "       '10.35am', '11.25am ', '12.02pm ', '9.15am ', '10.05am ',\n",
       "       '10.15am ', '8.25am', '9.50am ', '11.05am', '11.15am ', '11.30am',\n",
       "       '12.05pm ', '12.35pm ', '8.00am', '8.20am ', '9.25am ', '9.35am ',\n",
       "       '11.10am', '10.10am', '10.23am ', '10.34am', '10.45am', '10.50am ',\n",
       "       '7.55am ', '8.15am', '9.05am', '9.40am ', '10.00am ', '9.00am ',\n",
       "       '12.50pm', '1.10pm ', '8.00am ', '8.40am', '8.55am ', '10.55am',\n",
       "       '11.50am', '12.10pm', '12.15pm', '12.35pm', '12.40pm ', '12.45pm ',\n",
       "       '1.15pm', '1.25pm ', '7.55am', '8.20am', '10.40am ', '12.30pm',\n",
       "       '1.15pm ', '1.50pm ', '2.40pm ', '7.50am', '8.35am', '12.25pm',\n",
       "       '12.55pm ', '11.45am ', '11.55am', '1.00pm', '11.20am ', '11.40am',\n",
       "       '10.35am ', '11.25am'], dtype=object)"
      ]
     },
     "execution_count": 7,
     "metadata": {},
     "output_type": "execute_result"
    }
   ],
   "source": [
    "df.Time.unique()"
   ]
  },
  {
   "cell_type": "code",
   "execution_count": 8,
   "metadata": {},
   "outputs": [],
   "source": [
    "#creating new coloumns for morning and evening prices \n",
    "df['morning_price'] = df['Time'].apply(lambda x: 1 if 'am' in x.lower() else 0)\n",
    "df['evening_price'] = df['Time'].apply(lambda x: 1 if 'pm' in x.lower() else 0)"
   ]
  },
  {
   "cell_type": "code",
   "execution_count": 9,
   "metadata": {},
   "outputs": [
    {
     "data": {
      "text/html": [
       "<div>\n",
       "<style scoped>\n",
       "    .dataframe tbody tr th:only-of-type {\n",
       "        vertical-align: middle;\n",
       "    }\n",
       "\n",
       "    .dataframe tbody tr th {\n",
       "        vertical-align: top;\n",
       "    }\n",
       "\n",
       "    .dataframe thead th {\n",
       "        text-align: right;\n",
       "    }\n",
       "</style>\n",
       "<table border=\"1\" class=\"dataframe\">\n",
       "  <thead>\n",
       "    <tr style=\"text-align: right;\">\n",
       "      <th></th>\n",
       "      <th>Vegetable</th>\n",
       "      <th>Net Amount (kg)</th>\n",
       "      <th>Time</th>\n",
       "      <th>Price per kilogram(Rs)</th>\n",
       "      <th>morning_price</th>\n",
       "      <th>evening_price</th>\n",
       "    </tr>\n",
       "  </thead>\n",
       "  <tbody>\n",
       "    <tr>\n",
       "      <th>0</th>\n",
       "      <td>Green Chilli</td>\n",
       "      <td>118.0</td>\n",
       "      <td>7.50am</td>\n",
       "      <td>128.0</td>\n",
       "      <td>1</td>\n",
       "      <td>0</td>\n",
       "    </tr>\n",
       "    <tr>\n",
       "      <th>1</th>\n",
       "      <td>Beans</td>\n",
       "      <td>286.0</td>\n",
       "      <td>8.35am</td>\n",
       "      <td>182.0</td>\n",
       "      <td>1</td>\n",
       "      <td>0</td>\n",
       "    </tr>\n",
       "    <tr>\n",
       "      <th>2</th>\n",
       "      <td>Potatoe</td>\n",
       "      <td>266.0</td>\n",
       "      <td>9.45am</td>\n",
       "      <td>115.0</td>\n",
       "      <td>1</td>\n",
       "      <td>0</td>\n",
       "    </tr>\n",
       "    <tr>\n",
       "      <th>3</th>\n",
       "      <td>Cabbage</td>\n",
       "      <td>154.0</td>\n",
       "      <td>10.10am</td>\n",
       "      <td>77.0</td>\n",
       "      <td>1</td>\n",
       "      <td>0</td>\n",
       "    </tr>\n",
       "    <tr>\n",
       "      <th>4</th>\n",
       "      <td>Potatoe</td>\n",
       "      <td>142.0</td>\n",
       "      <td>10.30am</td>\n",
       "      <td>75.0</td>\n",
       "      <td>1</td>\n",
       "      <td>0</td>\n",
       "    </tr>\n",
       "  </tbody>\n",
       "</table>\n",
       "</div>"
      ],
      "text/plain": [
       "      Vegetable  Net Amount (kg)      Time  Price per kilogram(Rs)  \\\n",
       "0  Green Chilli            118.0   7.50am                    128.0   \n",
       "1         Beans            286.0   8.35am                    182.0   \n",
       "2       Potatoe            266.0   9.45am                    115.0   \n",
       "3       Cabbage            154.0  10.10am                     77.0   \n",
       "4       Potatoe            142.0   10.30am                    75.0   \n",
       "\n",
       "   morning_price  evening_price  \n",
       "0              1              0  \n",
       "1              1              0  \n",
       "2              1              0  \n",
       "3              1              0  \n",
       "4              1              0  "
      ]
     },
     "execution_count": 9,
     "metadata": {},
     "output_type": "execute_result"
    }
   ],
   "source": [
    "df.head()"
   ]
  },
  {
   "cell_type": "code",
   "execution_count": 10,
   "metadata": {},
   "outputs": [],
   "source": [
    "#creating coloumns for each vegetables\n",
    "#Beans \n",
    "df['Beans'] = df['Vegetable'].apply(lambda x: 1 if 'beans' in x.lower() else 0)\n",
    "#Potatoe\n",
    "df['Potatoe'] = df['Vegetable'].apply(lambda x: 1 if 'potatoe' in x.lower() else 0)\n",
    "#Eggplant \n",
    "df['Eggplant'] = df['Vegetable'].apply(lambda x: 1 if 'eggplant' in x.lower() else 0)\n",
    "#Tomato          \n",
    "df['Tomato'] = df['Vegetable'].apply(lambda x: 1 if 'tomato' in x.lower() else 0)\n",
    "#Carrot  \n",
    "df['Carrot'] = df['Vegetable'].apply(lambda x: 1 if 'carrot' in x.lower() else 0)\n",
    "#Cabbage\n",
    "df['Cabbage'] = df['Vegetable'].apply(lambda x: 1 if 'cabbage' in x.lower() else 0)\n",
    "#Radish\n",
    "df['Radish'] = df['Vegetable'].apply(lambda x: 1 if 'radish' in x.lower() else 0)\n",
    "#Green Chilli \n",
    "df['Green Chilli'] = df['Vegetable'].apply(lambda x: 1 if 'green chilli' in x.lower() else 0)\n",
    "#Pumpkin \n",
    "df['Pumpkin'] = df['Vegetable'].apply(lambda x: 1 if 'pumpkin' in x.lower() else 0)\n",
    "#Guava   \n",
    "df['Guava'] = df['Vegetable'].apply(lambda x: 1 if 'guava' in x.lower() else 0)\n",
    "\n",
    "\n",
    "\n",
    "\n"
   ]
  },
  {
   "cell_type": "code",
   "execution_count": 11,
   "metadata": {},
   "outputs": [
    {
     "data": {
      "text/html": [
       "<div>\n",
       "<style scoped>\n",
       "    .dataframe tbody tr th:only-of-type {\n",
       "        vertical-align: middle;\n",
       "    }\n",
       "\n",
       "    .dataframe tbody tr th {\n",
       "        vertical-align: top;\n",
       "    }\n",
       "\n",
       "    .dataframe thead th {\n",
       "        text-align: right;\n",
       "    }\n",
       "</style>\n",
       "<table border=\"1\" class=\"dataframe\">\n",
       "  <thead>\n",
       "    <tr style=\"text-align: right;\">\n",
       "      <th></th>\n",
       "      <th>Vegetable</th>\n",
       "      <th>Net Amount (kg)</th>\n",
       "      <th>Time</th>\n",
       "      <th>Price per kilogram(Rs)</th>\n",
       "      <th>morning_price</th>\n",
       "      <th>evening_price</th>\n",
       "      <th>Beans</th>\n",
       "      <th>Potatoe</th>\n",
       "      <th>Eggplant</th>\n",
       "      <th>Tomato</th>\n",
       "      <th>Carrot</th>\n",
       "      <th>Cabbage</th>\n",
       "      <th>Radish</th>\n",
       "      <th>Green Chilli</th>\n",
       "      <th>Pumpkin</th>\n",
       "      <th>Guava</th>\n",
       "    </tr>\n",
       "  </thead>\n",
       "  <tbody>\n",
       "    <tr>\n",
       "      <th>0</th>\n",
       "      <td>Green Chilli</td>\n",
       "      <td>118.0</td>\n",
       "      <td>7.50am</td>\n",
       "      <td>128.0</td>\n",
       "      <td>1</td>\n",
       "      <td>0</td>\n",
       "      <td>0</td>\n",
       "      <td>0</td>\n",
       "      <td>0</td>\n",
       "      <td>0</td>\n",
       "      <td>0</td>\n",
       "      <td>0</td>\n",
       "      <td>0</td>\n",
       "      <td>1</td>\n",
       "      <td>0</td>\n",
       "      <td>0</td>\n",
       "    </tr>\n",
       "    <tr>\n",
       "      <th>1</th>\n",
       "      <td>Beans</td>\n",
       "      <td>286.0</td>\n",
       "      <td>8.35am</td>\n",
       "      <td>182.0</td>\n",
       "      <td>1</td>\n",
       "      <td>0</td>\n",
       "      <td>1</td>\n",
       "      <td>0</td>\n",
       "      <td>0</td>\n",
       "      <td>0</td>\n",
       "      <td>0</td>\n",
       "      <td>0</td>\n",
       "      <td>0</td>\n",
       "      <td>0</td>\n",
       "      <td>0</td>\n",
       "      <td>0</td>\n",
       "    </tr>\n",
       "    <tr>\n",
       "      <th>2</th>\n",
       "      <td>Potatoe</td>\n",
       "      <td>266.0</td>\n",
       "      <td>9.45am</td>\n",
       "      <td>115.0</td>\n",
       "      <td>1</td>\n",
       "      <td>0</td>\n",
       "      <td>0</td>\n",
       "      <td>1</td>\n",
       "      <td>0</td>\n",
       "      <td>0</td>\n",
       "      <td>0</td>\n",
       "      <td>0</td>\n",
       "      <td>0</td>\n",
       "      <td>0</td>\n",
       "      <td>0</td>\n",
       "      <td>0</td>\n",
       "    </tr>\n",
       "    <tr>\n",
       "      <th>3</th>\n",
       "      <td>Cabbage</td>\n",
       "      <td>154.0</td>\n",
       "      <td>10.10am</td>\n",
       "      <td>77.0</td>\n",
       "      <td>1</td>\n",
       "      <td>0</td>\n",
       "      <td>0</td>\n",
       "      <td>0</td>\n",
       "      <td>0</td>\n",
       "      <td>0</td>\n",
       "      <td>0</td>\n",
       "      <td>1</td>\n",
       "      <td>0</td>\n",
       "      <td>0</td>\n",
       "      <td>0</td>\n",
       "      <td>0</td>\n",
       "    </tr>\n",
       "    <tr>\n",
       "      <th>4</th>\n",
       "      <td>Potatoe</td>\n",
       "      <td>142.0</td>\n",
       "      <td>10.30am</td>\n",
       "      <td>75.0</td>\n",
       "      <td>1</td>\n",
       "      <td>0</td>\n",
       "      <td>0</td>\n",
       "      <td>1</td>\n",
       "      <td>0</td>\n",
       "      <td>0</td>\n",
       "      <td>0</td>\n",
       "      <td>0</td>\n",
       "      <td>0</td>\n",
       "      <td>0</td>\n",
       "      <td>0</td>\n",
       "      <td>0</td>\n",
       "    </tr>\n",
       "  </tbody>\n",
       "</table>\n",
       "</div>"
      ],
      "text/plain": [
       "      Vegetable  Net Amount (kg)      Time  Price per kilogram(Rs)  \\\n",
       "0  Green Chilli            118.0   7.50am                    128.0   \n",
       "1         Beans            286.0   8.35am                    182.0   \n",
       "2       Potatoe            266.0   9.45am                    115.0   \n",
       "3       Cabbage            154.0  10.10am                     77.0   \n",
       "4       Potatoe            142.0   10.30am                    75.0   \n",
       "\n",
       "   morning_price  evening_price  Beans  Potatoe  Eggplant  Tomato  Carrot  \\\n",
       "0              1              0      0        0         0       0       0   \n",
       "1              1              0      1        0         0       0       0   \n",
       "2              1              0      0        1         0       0       0   \n",
       "3              1              0      0        0         0       0       0   \n",
       "4              1              0      0        1         0       0       0   \n",
       "\n",
       "   Cabbage  Radish  Green Chilli  Pumpkin  Guava  \n",
       "0        0       0             1        0      0  \n",
       "1        0       0             0        0      0  \n",
       "2        0       0             0        0      0  \n",
       "3        1       0             0        0      0  \n",
       "4        0       0             0        0      0  "
      ]
     },
     "execution_count": 11,
     "metadata": {},
     "output_type": "execute_result"
    }
   ],
   "source": [
    "df.head()"
   ]
  },
  {
   "cell_type": "code",
   "execution_count": 12,
   "metadata": {
    "scrolled": true
   },
   "outputs": [],
   "source": [
    "#removing vegetables which contains less than two datasets \n",
    "#df = df.set_index(\"Vegetable\")\n",
    "#df.drop(['Banana','Arecanut','Lettuce','Karawila'], axis=0,inplace=True)\n",
    "\n",
    "#df = df[df.Vegetable = \"Banana\"]\n"
   ]
  },
  {
   "cell_type": "code",
   "execution_count": 13,
   "metadata": {
    "scrolled": true
   },
   "outputs": [
    {
     "data": {
      "text/plain": [
       "(248, 16)"
      ]
     },
     "execution_count": 13,
     "metadata": {},
     "output_type": "execute_result"
    }
   ],
   "source": [
    "df.shape # initial row count = 248"
   ]
  },
  {
   "cell_type": "code",
   "execution_count": 16,
   "metadata": {},
   "outputs": [],
   "source": [
    "df = df[df.Vegetable != \"Banana\"]\n",
    " "
   ]
  },
  {
   "cell_type": "code",
   "execution_count": 17,
   "metadata": {},
   "outputs": [],
   "source": [
    "df = df[df.Vegetable != \"Karawila\"]"
   ]
  },
  {
   "cell_type": "code",
   "execution_count": 18,
   "metadata": {},
   "outputs": [],
   "source": [
    "df = df[df.Vegetable != \"Arecanut\"]"
   ]
  },
  {
   "cell_type": "code",
   "execution_count": 19,
   "metadata": {},
   "outputs": [],
   "source": [
    "df = df[df.Vegetable != \"Lettuce\"]"
   ]
  },
  {
   "cell_type": "code",
   "execution_count": 20,
   "metadata": {},
   "outputs": [
    {
     "data": {
      "text/plain": [
       "(244, 16)"
      ]
     },
     "execution_count": 20,
     "metadata": {},
     "output_type": "execute_result"
    }
   ],
   "source": [
    "df.shape #row count after removing above mentioned 4 vegetables"
   ]
  },
  {
   "cell_type": "code",
   "execution_count": 21,
   "metadata": {},
   "outputs": [
    {
     "data": {
      "text/plain": [
       "0      Green Chilli\n",
       "1             Beans\n",
       "2           Potatoe\n",
       "3           Cabbage\n",
       "4           Potatoe\n",
       "           ...     \n",
       "246          Carrot\n",
       "247        Eggplant\n",
       "248        Eggplant\n",
       "249           Beans\n",
       "250         Pumpkin\n",
       "Name: Vegetable, Length: 244, dtype: object"
      ]
     },
     "execution_count": 21,
     "metadata": {},
     "output_type": "execute_result"
    }
   ],
   "source": [
    "df[\"Vegetable\"]"
   ]
  },
  {
   "cell_type": "code",
   "execution_count": 22,
   "metadata": {},
   "outputs": [
    {
     "data": {
      "text/html": [
       "<div>\n",
       "<style scoped>\n",
       "    .dataframe tbody tr th:only-of-type {\n",
       "        vertical-align: middle;\n",
       "    }\n",
       "\n",
       "    .dataframe tbody tr th {\n",
       "        vertical-align: top;\n",
       "    }\n",
       "\n",
       "    .dataframe thead th {\n",
       "        text-align: right;\n",
       "    }\n",
       "</style>\n",
       "<table border=\"1\" class=\"dataframe\">\n",
       "  <thead>\n",
       "    <tr style=\"text-align: right;\">\n",
       "      <th></th>\n",
       "      <th>Net Amount (kg)</th>\n",
       "      <th>Price per kilogram(Rs)</th>\n",
       "      <th>morning_price</th>\n",
       "      <th>evening_price</th>\n",
       "      <th>Beans</th>\n",
       "      <th>Potatoe</th>\n",
       "      <th>Eggplant</th>\n",
       "      <th>Tomato</th>\n",
       "      <th>Carrot</th>\n",
       "      <th>Cabbage</th>\n",
       "      <th>Radish</th>\n",
       "      <th>Green Chilli</th>\n",
       "      <th>Pumpkin</th>\n",
       "      <th>Guava</th>\n",
       "    </tr>\n",
       "  </thead>\n",
       "  <tbody>\n",
       "    <tr>\n",
       "      <th>count</th>\n",
       "      <td>244.000000</td>\n",
       "      <td>244.000000</td>\n",
       "      <td>244.000000</td>\n",
       "      <td>244.000000</td>\n",
       "      <td>244.000000</td>\n",
       "      <td>244.000000</td>\n",
       "      <td>244.000000</td>\n",
       "      <td>244.000000</td>\n",
       "      <td>244.000000</td>\n",
       "      <td>244.000000</td>\n",
       "      <td>244.000000</td>\n",
       "      <td>244.000000</td>\n",
       "      <td>244.000000</td>\n",
       "      <td>244.000000</td>\n",
       "    </tr>\n",
       "    <tr>\n",
       "      <th>mean</th>\n",
       "      <td>131.893443</td>\n",
       "      <td>104.635246</td>\n",
       "      <td>0.872951</td>\n",
       "      <td>0.127049</td>\n",
       "      <td>0.389344</td>\n",
       "      <td>0.081967</td>\n",
       "      <td>0.168033</td>\n",
       "      <td>0.081967</td>\n",
       "      <td>0.073770</td>\n",
       "      <td>0.073770</td>\n",
       "      <td>0.053279</td>\n",
       "      <td>0.040984</td>\n",
       "      <td>0.020492</td>\n",
       "      <td>0.016393</td>\n",
       "    </tr>\n",
       "    <tr>\n",
       "      <th>std</th>\n",
       "      <td>95.577414</td>\n",
       "      <td>48.211662</td>\n",
       "      <td>0.333713</td>\n",
       "      <td>0.333713</td>\n",
       "      <td>0.488604</td>\n",
       "      <td>0.274879</td>\n",
       "      <td>0.374664</td>\n",
       "      <td>0.274879</td>\n",
       "      <td>0.261934</td>\n",
       "      <td>0.261934</td>\n",
       "      <td>0.225050</td>\n",
       "      <td>0.198660</td>\n",
       "      <td>0.141967</td>\n",
       "      <td>0.127244</td>\n",
       "    </tr>\n",
       "    <tr>\n",
       "      <th>min</th>\n",
       "      <td>4.000000</td>\n",
       "      <td>18.000000</td>\n",
       "      <td>0.000000</td>\n",
       "      <td>0.000000</td>\n",
       "      <td>0.000000</td>\n",
       "      <td>0.000000</td>\n",
       "      <td>0.000000</td>\n",
       "      <td>0.000000</td>\n",
       "      <td>0.000000</td>\n",
       "      <td>0.000000</td>\n",
       "      <td>0.000000</td>\n",
       "      <td>0.000000</td>\n",
       "      <td>0.000000</td>\n",
       "      <td>0.000000</td>\n",
       "    </tr>\n",
       "    <tr>\n",
       "      <th>25%</th>\n",
       "      <td>52.000000</td>\n",
       "      <td>75.000000</td>\n",
       "      <td>1.000000</td>\n",
       "      <td>0.000000</td>\n",
       "      <td>0.000000</td>\n",
       "      <td>0.000000</td>\n",
       "      <td>0.000000</td>\n",
       "      <td>0.000000</td>\n",
       "      <td>0.000000</td>\n",
       "      <td>0.000000</td>\n",
       "      <td>0.000000</td>\n",
       "      <td>0.000000</td>\n",
       "      <td>0.000000</td>\n",
       "      <td>0.000000</td>\n",
       "    </tr>\n",
       "    <tr>\n",
       "      <th>50%</th>\n",
       "      <td>121.000000</td>\n",
       "      <td>86.000000</td>\n",
       "      <td>1.000000</td>\n",
       "      <td>0.000000</td>\n",
       "      <td>0.000000</td>\n",
       "      <td>0.000000</td>\n",
       "      <td>0.000000</td>\n",
       "      <td>0.000000</td>\n",
       "      <td>0.000000</td>\n",
       "      <td>0.000000</td>\n",
       "      <td>0.000000</td>\n",
       "      <td>0.000000</td>\n",
       "      <td>0.000000</td>\n",
       "      <td>0.000000</td>\n",
       "    </tr>\n",
       "    <tr>\n",
       "      <th>75%</th>\n",
       "      <td>154.000000</td>\n",
       "      <td>155.000000</td>\n",
       "      <td>1.000000</td>\n",
       "      <td>0.000000</td>\n",
       "      <td>1.000000</td>\n",
       "      <td>0.000000</td>\n",
       "      <td>0.000000</td>\n",
       "      <td>0.000000</td>\n",
       "      <td>0.000000</td>\n",
       "      <td>0.000000</td>\n",
       "      <td>0.000000</td>\n",
       "      <td>0.000000</td>\n",
       "      <td>0.000000</td>\n",
       "      <td>0.000000</td>\n",
       "    </tr>\n",
       "    <tr>\n",
       "      <th>max</th>\n",
       "      <td>464.000000</td>\n",
       "      <td>230.000000</td>\n",
       "      <td>1.000000</td>\n",
       "      <td>1.000000</td>\n",
       "      <td>1.000000</td>\n",
       "      <td>1.000000</td>\n",
       "      <td>1.000000</td>\n",
       "      <td>1.000000</td>\n",
       "      <td>1.000000</td>\n",
       "      <td>1.000000</td>\n",
       "      <td>1.000000</td>\n",
       "      <td>1.000000</td>\n",
       "      <td>1.000000</td>\n",
       "      <td>1.000000</td>\n",
       "    </tr>\n",
       "  </tbody>\n",
       "</table>\n",
       "</div>"
      ],
      "text/plain": [
       "       Net Amount (kg)  Price per kilogram(Rs)  morning_price  evening_price  \\\n",
       "count       244.000000              244.000000     244.000000     244.000000   \n",
       "mean        131.893443              104.635246       0.872951       0.127049   \n",
       "std          95.577414               48.211662       0.333713       0.333713   \n",
       "min           4.000000               18.000000       0.000000       0.000000   \n",
       "25%          52.000000               75.000000       1.000000       0.000000   \n",
       "50%         121.000000               86.000000       1.000000       0.000000   \n",
       "75%         154.000000              155.000000       1.000000       0.000000   \n",
       "max         464.000000              230.000000       1.000000       1.000000   \n",
       "\n",
       "            Beans     Potatoe    Eggplant      Tomato      Carrot     Cabbage  \\\n",
       "count  244.000000  244.000000  244.000000  244.000000  244.000000  244.000000   \n",
       "mean     0.389344    0.081967    0.168033    0.081967    0.073770    0.073770   \n",
       "std      0.488604    0.274879    0.374664    0.274879    0.261934    0.261934   \n",
       "min      0.000000    0.000000    0.000000    0.000000    0.000000    0.000000   \n",
       "25%      0.000000    0.000000    0.000000    0.000000    0.000000    0.000000   \n",
       "50%      0.000000    0.000000    0.000000    0.000000    0.000000    0.000000   \n",
       "75%      1.000000    0.000000    0.000000    0.000000    0.000000    0.000000   \n",
       "max      1.000000    1.000000    1.000000    1.000000    1.000000    1.000000   \n",
       "\n",
       "           Radish  Green Chilli     Pumpkin       Guava  \n",
       "count  244.000000    244.000000  244.000000  244.000000  \n",
       "mean     0.053279      0.040984    0.020492    0.016393  \n",
       "std      0.225050      0.198660    0.141967    0.127244  \n",
       "min      0.000000      0.000000    0.000000    0.000000  \n",
       "25%      0.000000      0.000000    0.000000    0.000000  \n",
       "50%      0.000000      0.000000    0.000000    0.000000  \n",
       "75%      0.000000      0.000000    0.000000    0.000000  \n",
       "max      1.000000      1.000000    1.000000    1.000000  "
      ]
     },
     "execution_count": 22,
     "metadata": {},
     "output_type": "execute_result"
    }
   ],
   "source": [
    "df.describe()"
   ]
  },
  {
   "cell_type": "code",
   "execution_count": null,
   "metadata": {},
   "outputs": [],
   "source": []
  }
 ],
 "metadata": {
  "kernelspec": {
   "display_name": "Python 3",
   "language": "python",
   "name": "python3"
  },
  "language_info": {
   "codemirror_mode": {
    "name": "ipython",
    "version": 3
   },
   "file_extension": ".py",
   "mimetype": "text/x-python",
   "name": "python",
   "nbconvert_exporter": "python",
   "pygments_lexer": "ipython3",
   "version": "3.8.5"
  }
 },
 "nbformat": 4,
 "nbformat_minor": 4
}
