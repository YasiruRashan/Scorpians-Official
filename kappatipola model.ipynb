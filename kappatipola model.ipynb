{
 "cells": [
  {
   "cell_type": "code",
   "execution_count": 1,
   "metadata": {},
   "outputs": [],
   "source": [
    "import pandas as pd\n",
    "import numpy as np\n",
    "from matplotlib import pyplot as plt\n",
    "%matplotlib inline\n",
    "import matplotlib\n",
    "matplotlib.rcParams[\"figure.figsize\"] = (20,10)"
   ]
  },
  {
   "cell_type": "code",
   "execution_count": 2,
   "metadata": {},
   "outputs": [
    {
     "data": {
      "text/html": [
       "<div>\n",
       "<style scoped>\n",
       "    .dataframe tbody tr th:only-of-type {\n",
       "        vertical-align: middle;\n",
       "    }\n",
       "\n",
       "    .dataframe tbody tr th {\n",
       "        vertical-align: top;\n",
       "    }\n",
       "\n",
       "    .dataframe thead th {\n",
       "        text-align: right;\n",
       "    }\n",
       "</style>\n",
       "<table border=\"1\" class=\"dataframe\">\n",
       "  <thead>\n",
       "    <tr style=\"text-align: right;\">\n",
       "      <th></th>\n",
       "      <th>Date</th>\n",
       "      <th>Vegetable</th>\n",
       "      <th>Units</th>\n",
       "      <th>Net Amount (kg)</th>\n",
       "      <th>Time</th>\n",
       "      <th>Price per kilogram(Rs)</th>\n",
       "      <th>Net Price (Rs)</th>\n",
       "      <th>Quality</th>\n",
       "    </tr>\n",
       "  </thead>\n",
       "  <tbody>\n",
       "    <tr>\n",
       "      <th>0</th>\n",
       "      <td>7/31/2020</td>\n",
       "      <td>Green Chilli</td>\n",
       "      <td>4.0</td>\n",
       "      <td>118.0</td>\n",
       "      <td>7.50am - 8.35am</td>\n",
       "      <td>128.0</td>\n",
       "      <td>15104.0</td>\n",
       "      <td>H</td>\n",
       "    </tr>\n",
       "    <tr>\n",
       "      <th>1</th>\n",
       "      <td>7/31/2020</td>\n",
       "      <td>Beans</td>\n",
       "      <td>12.0</td>\n",
       "      <td>286.0</td>\n",
       "      <td>8.35am - 9.45am</td>\n",
       "      <td>182.0</td>\n",
       "      <td>52052.0</td>\n",
       "      <td>H</td>\n",
       "    </tr>\n",
       "    <tr>\n",
       "      <th>2</th>\n",
       "      <td>2020-07-31 00:00:00</td>\n",
       "      <td>Potatoe</td>\n",
       "      <td>5.0</td>\n",
       "      <td>266.0</td>\n",
       "      <td>9.45am - 10.10am</td>\n",
       "      <td>115.0</td>\n",
       "      <td>30590.0</td>\n",
       "      <td>M</td>\n",
       "    </tr>\n",
       "    <tr>\n",
       "      <th>3</th>\n",
       "      <td>2020-07-31 00:00:00</td>\n",
       "      <td>cabbage</td>\n",
       "      <td>4.0</td>\n",
       "      <td>154.0</td>\n",
       "      <td>10.10am - 10.30am</td>\n",
       "      <td>77.0</td>\n",
       "      <td>11858.0</td>\n",
       "      <td>H</td>\n",
       "    </tr>\n",
       "    <tr>\n",
       "      <th>4</th>\n",
       "      <td>2020-07-31 00:00:00</td>\n",
       "      <td>Potatoe</td>\n",
       "      <td>3.0</td>\n",
       "      <td>142.0</td>\n",
       "      <td>10.30am - 10.45am</td>\n",
       "      <td>75.0</td>\n",
       "      <td>10650.0</td>\n",
       "      <td>L</td>\n",
       "    </tr>\n",
       "  </tbody>\n",
       "</table>\n",
       "</div>"
      ],
      "text/plain": [
       "                  Date     Vegetable  Units  Net Amount (kg)  \\\n",
       "0            7/31/2020  Green Chilli    4.0            118.0   \n",
       "1            7/31/2020         Beans   12.0            286.0   \n",
       "2  2020-07-31 00:00:00       Potatoe    5.0            266.0   \n",
       "3  2020-07-31 00:00:00       cabbage    4.0            154.0   \n",
       "4  2020-07-31 00:00:00       Potatoe    3.0            142.0   \n",
       "\n",
       "                Time  Price per kilogram(Rs)  Net Price (Rs) Quality  \n",
       "0    7.50am - 8.35am                   128.0         15104.0       H  \n",
       "1    8.35am - 9.45am                   182.0         52052.0       H  \n",
       "2   9.45am - 10.10am                   115.0         30590.0       M  \n",
       "3  10.10am - 10.30am                    77.0         11858.0       H  \n",
       "4  10.30am - 10.45am                    75.0         10650.0       L  "
      ]
     },
     "execution_count": 2,
     "metadata": {},
     "output_type": "execute_result"
    }
   ],
   "source": [
    "df1 = pd.read_excel (r\"C:\\Users\\Shirani jayawardana\\Desktop\\sdgp proj\\kappatipola\\sdgp-data set.xlsx\")\n",
    "df1.head()"
   ]
  },
  {
   "cell_type": "code",
   "execution_count": 3,
   "metadata": {},
   "outputs": [
    {
     "data": {
      "text/plain": [
       "Beans           96\n",
       "Eggplant        41\n",
       "Tomato          20\n",
       "Potatoe         19\n",
       "Carrot          18\n",
       "Radish          13\n",
       "Cabbage         11\n",
       "cabbage          7\n",
       "Green Chilli     5\n",
       "Pumpkin          5\n",
       "Guava            4\n",
       "Chillie          4\n",
       "Karawila         2\n",
       "Arecanut         1\n",
       "Banana           1\n",
       "Green Chili      1\n",
       "Lettuce          1\n",
       "potatoe          1\n",
       "Name: Vegetable, dtype: int64"
      ]
     },
     "execution_count": 3,
     "metadata": {},
     "output_type": "execute_result"
    }
   ],
   "source": [
    "df1['Vegetable'].value_counts()"
   ]
  },
  {
   "cell_type": "code",
   "execution_count": 4,
   "metadata": {},
   "outputs": [
    {
     "data": {
      "text/plain": [
       "(330, 5)"
      ]
     },
     "execution_count": 4,
     "metadata": {},
     "output_type": "execute_result"
    }
   ],
   "source": [
    "df2 = df1.drop(['Quality','Net Price (Rs)','Units'],axis='columns')\n",
    "df2.shape"
   ]
  },
  {
   "cell_type": "code",
   "execution_count": 5,
   "metadata": {},
   "outputs": [
    {
     "data": {
      "text/plain": [
       "(330, 5)"
      ]
     },
     "execution_count": 5,
     "metadata": {},
     "output_type": "execute_result"
    }
   ],
   "source": [
    "df2.shape"
   ]
  },
  {
   "cell_type": "code",
   "execution_count": 6,
   "metadata": {},
   "outputs": [
    {
     "data": {
      "text/plain": [
       "Date                      79\n",
       "Vegetable                 80\n",
       "Net Amount (kg)           80\n",
       "Time                      79\n",
       "Price per kilogram(Rs)    80\n",
       "dtype: int64"
      ]
     },
     "execution_count": 6,
     "metadata": {},
     "output_type": "execute_result"
    }
   ],
   "source": [
    "df2.isnull().sum()"
   ]
  },
  {
   "cell_type": "code",
   "execution_count": 7,
   "metadata": {},
   "outputs": [
    {
     "data": {
      "text/plain": [
       "Date                      0\n",
       "Vegetable                 0\n",
       "Net Amount (kg)           0\n",
       "Time                      0\n",
       "Price per kilogram(Rs)    0\n",
       "dtype: int64"
      ]
     },
     "execution_count": 7,
     "metadata": {},
     "output_type": "execute_result"
    }
   ],
   "source": [
    "df3 = df2.dropna()\n",
    "df3.isnull().sum()"
   ]
  },
  {
   "cell_type": "code",
   "execution_count": 8,
   "metadata": {},
   "outputs": [
    {
     "data": {
      "text/plain": [
       "(248, 5)"
      ]
     },
     "execution_count": 8,
     "metadata": {},
     "output_type": "execute_result"
    }
   ],
   "source": [
    "df3.shape\n"
   ]
  },
  {
   "cell_type": "code",
   "execution_count": 9,
   "metadata": {},
   "outputs": [
    {
     "data": {
      "text/plain": [
       "array(['7.50am - 8.35am', '8.35am - 9.45am', '9.45am - 10.10am',\n",
       "       '10.10am - 10.30am', '10.30am - 10.45am', '10.45am - 11.35am',\n",
       "       '11.35am - 12.25pm', '12.25pm - 12.55pm', '12.55pm - 1.30pm',\n",
       "       '9.00am - 9.25pm', '9.25am - 9.55am', '9.55am - 10.10am',\n",
       "       '10.10am - 10.50am', '10.50am - 11.05am', '11.05am - 11.30am',\n",
       "       '11.30am - 11.35am', '11.35am - 11.45am', '11.45am - 12.10pm',\n",
       "       '8.30am - 8.45am', '8.45am - 8.55am', '8.55am - 9.45am',\n",
       "       '9.45am - 10.00am', '10.00am - 10.10am', '10.10am - 10.25am',\n",
       "       '10.25am - 10.30am', '10.30am - 10.40am', '10.40am -11.05am',\n",
       "       '11.05am - 11.55am', '11.55am - 12.30pm', '8.15am - 8.30am',\n",
       "       '8.30am - 10.05am', '10.05am - 10.30am', '10.30am - 10.55am',\n",
       "       '10.55am - 11.10am', '11.10am - 11.35am', '12.25pm - 1.00pm',\n",
       "       '1.00pm - 1.35pm', '9.10am - 9.30am', '9.30am - 10.05am',\n",
       "       '10.05am - 10.25am', '10.25am - 11.20am', '11.20am - 11.30am',\n",
       "       '11.35am - 11.40am', '11.40am - 12.05pm', '12.05pm - 12.30pm',\n",
       "       '7.50am - 8.05am', '8.05am - 8.10am', '8.10am - 9.05am',\n",
       "       '9.05am - 9.35am', '9.35am - 9.45am', '9.45am - 10.05am',\n",
       "       '10.05am - 10.15am', '10.15am - 10.30am', '10.55am - 11.35am',\n",
       "       '8.05am - 8.25am', '8.25am - 9.15am', '9.15am - 9.30am',\n",
       "       '9.30am - 9.45am', '9.45am - 9.55am', '9.55am - 10.35am',\n",
       "       '10.35am - 11.25am', '11.25am - 12.02pm', '12.02pm - 12.35pm',\n",
       "       '10.15am - 10.55am', '10.55am - 11.05am', '8.10am - 8.25am',\n",
       "       '8.25am - 8.35am', '8.35am - 9.15am', '9.15am - 9.35am',\n",
       "       '9.35am - 9.50am', '9.50am - 11.05am', '11.05am - 11.15am',\n",
       "       '11.15am - 11.30am', '11.30am - 12.05pm', '12.05pm - 12.35pm',\n",
       "       '12.35pm - 12.55pm', '8.00am - 8.20am', '8.20am - 8.55am',\n",
       "       '8.55am - 9.10am', '9.10am - 9.25am', '9.25am - 9.35am',\n",
       "       '9.35am - 10.05am', '10.05am - 11.10am', '11.10am - 11.45am',\n",
       "       '11.45am - 12.05pm', '10.05am - 10.10am', '10.10am - 10.15am',\n",
       "       '10.15am - 10.23am', '10.23am - 10.30am', '10.30am - 10.34am',\n",
       "       '10.34am - 10.45am', '10.45am - 10.50am', '10.50am - 10.55am',\n",
       "       '7.55am - 8.15am', '8.15am - 8.45am', '8.45am - 9.05am',\n",
       "       '9.05am - 9.40am', '9.40am - 10.00am', '10.00am - 10.30am',\n",
       "       '10.30am - 11.05am', '11.05am - 12.55pm', '9.00am - 10.00am',\n",
       "       '10.00am - 10.45am', '10.45am - 11.15am', '8.00am - 8.15am',\n",
       "       '8.15am - 10.00am', '10.00am - 10.15am', '10.15am - 10.45am',\n",
       "       '10.45am - 11.10am', '11.10am - 11.20am', '12.50pm - 1.00pm',\n",
       "       '1.00pm - 1.10pm', '1.10pm - 1.45pm', '8.00am - 8.30am',\n",
       "       '8.30am- 8.40am', '8.40am - 8.45am', '8.55am - 9.00am',\n",
       "       '9.00am- 9.55am', '9.55am - 10.00am', '10.55am - 11.45am',\n",
       "       '11.45am - 11.50am', '11.50am - 11.55am', '11.55am - 12.10pm',\n",
       "       '12.10pm - 12.15pm', '12.15pm - 12.35pm', '12.35pm - 12.40pm',\n",
       "       '12.40pm - 12.45pm', '12.45pm - 12.50pm', '12.50pm - 1.15pm',\n",
       "       '1.15pm - 1.25pm', '1.25pm - 1.45pm', '8.15am - 8.20am',\n",
       "       '8.20am - 8.45am', '8.45am - 9.30am', '9.55am - 10.05am',\n",
       "       '10.40am - 10.50am', '10.50am - 11.30am', '12.35pm - 12.45pm',\n",
       "       '8.00am - 8.25am', '8.25am - 9.25am', '9.25am - 10.25am',\n",
       "       '10.25am - 11.15am', '11.15am - 11.55am', '12.30pm - 1.15pm',\n",
       "       '1.15pm - 1.50pm', '1.50pm - 2.40pm', '2.40pm - 3.30pm'],\n",
       "      dtype=object)"
      ]
     },
     "execution_count": 9,
     "metadata": {},
     "output_type": "execute_result"
    }
   ],
   "source": [
    "df3.Time.unique()"
   ]
  },
  {
   "cell_type": "code",
   "execution_count": null,
   "metadata": {},
   "outputs": [],
   "source": [
    "def convert_time(x):\n",
    "    \n",
    "    \n"
   ]
  }
 ],
 "metadata": {
  "kernelspec": {
   "display_name": "Python 3",
   "language": "python",
   "name": "python3"
  },
  "language_info": {
   "codemirror_mode": {
    "name": "ipython",
    "version": 3
   },
   "file_extension": ".py",
   "mimetype": "text/x-python",
   "name": "python",
   "nbconvert_exporter": "python",
   "pygments_lexer": "ipython3",
   "version": "3.8.5"
  }
 },
 "nbformat": 4,
 "nbformat_minor": 4
}
